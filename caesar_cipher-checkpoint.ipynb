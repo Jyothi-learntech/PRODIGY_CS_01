{
 "cells": [
  {
   "cell_type": "code",
   "execution_count": 11,
   "id": "6f233854-ddbe-4b1d-a4bc-a7c67cc7d034",
   "metadata": {},
   "outputs": [
    {
     "name": "stdout",
     "output_type": "stream",
     "text": [
      "-------------------------------------------- Caesar Cipher Tool --------------------------------------------------\n"
     ]
    },
    {
     "name": "stdin",
     "output_type": "stream",
     "text": [
      "Please select an option: 'e' for encryption or 'd' for decryption:  e\n",
      "Enter the message:  annoy\n",
      "Enter the shift value:  5\n"
     ]
    },
    {
     "name": "stdout",
     "output_type": "stream",
     "text": [
      "\n",
      "Encrypted Message: fsstd\n"
     ]
    }
   ],
   "source": [
    "print(\"-------------------------------------------- Caesar Cipher Tool --------------------------------------------------\")\n",
    "\n",
    "def caesar_cipher(text, shift, action):\n",
    "    result = \"\"\n",
    "    for char in text:\n",
    "        if char.isalpha():\n",
    "            start = ord('a') if char.islower() else ord('A')\n",
    "            shift_direction = shift if action == 'e' else -shift\n",
    "            result += chr((ord(char) - start + shift_direction) % 26 + start)\n",
    "        else:\n",
    "            result += char\n",
    "    return result\n",
    "\n",
    "def main():\n",
    "    action = input(\"Please select an option: 'e' for encryption or 'd' for decryption: \").lower()\n",
    "    while action not in ['e', 'd']:\n",
    "        print(\"Invalid selection. Please choose 'e' for encryption or 'd' for decryption.\")\n",
    "        action = input(\"Please select an option: 'e' for encryption or 'd' for decryption: \").lower()\n",
    "\n",
    "    message = input(\"Enter the message: \")\n",
    "    shift = int(input(\"Enter the shift value: \"))\n",
    "\n",
    "    result = caesar_cipher(message, shift, action)\n",
    "    action_word = \"Encrypted\" if action == 'e' else \"Decrypted\"\n",
    "    print(f\"\\n{action_word} Message: {result}\")\n",
    "\n",
    "if __name__ == \"__main__\":\n",
    "    main()\n",
    "\n"
   ]
  },
  {
   "cell_type": "code",
   "execution_count": null,
   "id": "79920531-6499-4440-a8b6-424a9d38e364",
   "metadata": {},
   "outputs": [],
   "source": []
  }
 ],
 "metadata": {
  "kernelspec": {
   "display_name": "Python 3 (ipykernel)",
   "language": "python",
   "name": "python3"
  },
  "language_info": {
   "codemirror_mode": {
    "name": "ipython",
    "version": 3
   },
   "file_extension": ".py",
   "mimetype": "text/x-python",
   "name": "python",
   "nbconvert_exporter": "python",
   "pygments_lexer": "ipython3",
   "version": "3.12.4"
  }
 },
 "nbformat": 4,
 "nbformat_minor": 5
}
